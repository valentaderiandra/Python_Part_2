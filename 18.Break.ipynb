{
 "cells": [
  {
   "cell_type": "markdown",
   "id": "1bd2fa40",
   "metadata": {},
   "source": [
    "# Break\n",
    "* The break statement stops the loop then exits, followed by executing the statement after the loop block\n",
    "* If you have a nested loop, break will stop the loop according to the level or in which loop it is in\n",
    "* However, if it is placed in a loop with a second depth for example, only that loop will stop, not with the main loop"
   ]
  },
  {
   "cell_type": "code",
   "execution_count": 9,
   "id": "91480e93",
   "metadata": {},
   "outputs": [
    {
     "name": "stdout",
     "output_type": "stream",
     "text": [
      "D\n",
      "a\n",
      "t\n",
      "a\n"
     ]
    }
   ],
   "source": [
    "for i in \"Data Science\":\n",
    "    if i == \" \":\n",
    "       break\n",
    "    print (i)"
   ]
  },
  {
   "cell_type": "code",
   "execution_count": 36,
   "id": "1930b424",
   "metadata": {},
   "outputs": [
    {
     "name": "stdout",
     "output_type": "stream",
     "text": [
      "Valent\n",
      "Aderiandra\n"
     ]
    }
   ],
   "source": [
    "# Display names in the myname list without the word \"Rafael\"\n",
    "myname = [\"Valent\",\"Aderiandra\",\"Rafael\"]\n",
    "\n",
    "for i in myname :\n",
    "    if i == \"Rafael\" :\n",
    "        \tbreak\n",
    "    print(i)"
   ]
  }
 ],
 "metadata": {
  "kernelspec": {
   "display_name": "Python 3 (ipykernel)",
   "language": "python",
   "name": "python3"
  },
  "language_info": {
   "codemirror_mode": {
    "name": "ipython",
    "version": 3
   },
   "file_extension": ".py",
   "mimetype": "text/x-python",
   "name": "python",
   "nbconvert_exporter": "python",
   "pygments_lexer": "ipython3",
   "version": "3.9.12"
  }
 },
 "nbformat": 4,
 "nbformat_minor": 5
}
