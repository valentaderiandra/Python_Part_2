{
 "cells": [
  {
   "cell_type": "markdown",
   "id": "ccc6446c",
   "metadata": {},
   "source": [
    "# Operators, Operands and Expressions\n",
    "* 1+2 b+c\n",
    "* \\+ : Operator\n",
    "* 1,2,or b,c : Variable / operand"
   ]
  },
  {
   "cell_type": "markdown",
   "id": "49780270",
   "metadata": {},
   "source": [
    "We can perform expressions without using variables directly in Python's interactive mode"
   ]
  },
  {
   "cell_type": "code",
   "execution_count": 1,
   "id": "57f32673",
   "metadata": {},
   "outputs": [
    {
     "name": "stdout",
     "output_type": "stream",
     "text": [
      "3\n"
     ]
    }
   ],
   "source": [
    "print(1+2)"
   ]
  },
  {
   "cell_type": "code",
   "execution_count": 2,
   "id": "5a3f4b67",
   "metadata": {},
   "outputs": [
    {
     "name": "stdout",
     "output_type": "stream",
     "text": [
      "12\n"
     ]
    }
   ],
   "source": [
    "print(3*4)"
   ]
  },
  {
   "cell_type": "markdown",
   "id": "8b1187a8",
   "metadata": {},
   "source": [
    "Operator types Math and Strings"
   ]
  },
  {
   "cell_type": "markdown",
   "id": "379a0214",
   "metadata": {},
   "source": [
    "## \\+ (Addition)"
   ]
  },
  {
   "cell_type": "code",
   "execution_count": 3,
   "id": "2adeb2e0",
   "metadata": {},
   "outputs": [
    {
     "data": {
      "text/plain": [
       "19.7"
      ]
     },
     "execution_count": 3,
     "metadata": {},
     "output_type": "execute_result"
    }
   ],
   "source": [
    "10.5+9.2"
   ]
  },
  {
   "cell_type": "code",
   "execution_count": 5,
   "id": "50386744",
   "metadata": {},
   "outputs": [
    {
     "data": {
      "text/plain": [
       "'Valent Aderiandra'"
      ]
     },
     "execution_count": 5,
     "metadata": {},
     "output_type": "execute_result"
    }
   ],
   "source": [
    "\"Valent\"+\" \"+\"Aderiandra\""
   ]
  },
  {
   "cell_type": "markdown",
   "id": "c99babe3",
   "metadata": {},
   "source": [
    "## \\- (Subtraction)"
   ]
  },
  {
   "cell_type": "code",
   "execution_count": 6,
   "id": "8da5210f",
   "metadata": {},
   "outputs": [
    {
     "data": {
      "text/plain": [
       "10.0"
      ]
     },
     "execution_count": 6,
     "metadata": {},
     "output_type": "execute_result"
    }
   ],
   "source": [
    "10.5 - 0.5"
   ]
  },
  {
   "cell_type": "markdown",
   "id": "1c0f2926",
   "metadata": {},
   "source": [
    "### Does not apply to strings, will result in an error unsupported operand"
   ]
  },
  {
   "cell_type": "markdown",
   "id": "6625a9a1",
   "metadata": {},
   "source": [
    "'data'-'da'"
   ]
  },
  {
   "cell_type": "code",
   "execution_count": 7,
   "id": "9db7f6bc",
   "metadata": {},
   "outputs": [
    {
     "ename": "TypeError",
     "evalue": "unsupported operand type(s) for -: 'str' and 'str'",
     "output_type": "error",
     "traceback": [
      "\u001b[1;31m---------------------------------------------------------------------------\u001b[0m",
      "\u001b[1;31mTypeError\u001b[0m                                 Traceback (most recent call last)",
      "Input \u001b[1;32mIn [7]\u001b[0m, in \u001b[0;36m<cell line: 1>\u001b[1;34m()\u001b[0m\n\u001b[1;32m----> 1\u001b[0m \u001b[38;5;124;43m\"\u001b[39;49m\u001b[38;5;124;43mValent\u001b[39;49m\u001b[38;5;124;43m\"\u001b[39;49m\u001b[43m \u001b[49m\u001b[38;5;241;43m-\u001b[39;49m\u001b[43m \u001b[49m\u001b[38;5;124;43m\"\u001b[39;49m\u001b[38;5;124;43mVal\u001b[39;49m\u001b[38;5;124;43m\"\u001b[39;49m\n",
      "\u001b[1;31mTypeError\u001b[0m: unsupported operand type(s) for -: 'str' and 'str'"
     ]
    }
   ],
   "source": [
    "\"Valent\" - \"Val\""
   ]
  },
  {
   "cell_type": "markdown",
   "id": "665e264b",
   "metadata": {},
   "source": [
    "## \\* (Multiplication)"
   ]
  },
  {
   "cell_type": "code",
   "execution_count": 8,
   "id": "ad005b7e",
   "metadata": {},
   "outputs": [
    {
     "data": {
      "text/plain": [
       "94.5"
      ]
     },
     "execution_count": 8,
     "metadata": {},
     "output_type": "execute_result"
    }
   ],
   "source": [
    "21*4.5"
   ]
  },
  {
   "cell_type": "markdown",
   "id": "58a6931d",
   "metadata": {},
   "source": [
    "### Returns a specified number of repeated strings"
   ]
  },
  {
   "cell_type": "code",
   "execution_count": 2,
   "id": "3e94d137",
   "metadata": {},
   "outputs": [
    {
     "data": {
      "text/plain": [
       "'My name is Valent My name is Valent My name is Valent '"
      ]
     },
     "execution_count": 2,
     "metadata": {},
     "output_type": "execute_result"
    }
   ],
   "source": [
    "\"My name is Valent \"*3"
   ]
  },
  {
   "cell_type": "code",
   "execution_count": 13,
   "id": "54ebfbb1",
   "metadata": {},
   "outputs": [
    {
     "data": {
      "text/plain": [
       "2.0"
      ]
     },
     "execution_count": 13,
     "metadata": {},
     "output_type": "execute_result"
    }
   ],
   "source": [
    "3/1.5"
   ]
  },
  {
   "cell_type": "markdown",
   "id": "aef94752",
   "metadata": {},
   "source": [
    "## \\** (Exponent)"
   ]
  },
  {
   "cell_type": "code",
   "execution_count": 22,
   "id": "30303fa0",
   "metadata": {},
   "outputs": [
    {
     "data": {
      "text/plain": [
       "81"
      ]
     },
     "execution_count": 22,
     "metadata": {},
     "output_type": "execute_result"
    }
   ],
   "source": [
    "3**4"
   ]
  },
  {
   "cell_type": "markdown",
   "id": "38107ca8",
   "metadata": {},
   "source": [
    "### For square root, use the power of 0.5"
   ]
  },
  {
   "cell_type": "code",
   "execution_count": 2,
   "id": "baf9a625",
   "metadata": {},
   "outputs": [
    {
     "data": {
      "text/plain": [
       "3.0"
      ]
     },
     "execution_count": 2,
     "metadata": {},
     "output_type": "execute_result"
    }
   ],
   "source": [
    "9**0.5"
   ]
  },
  {
   "cell_type": "markdown",
   "id": "63239f17",
   "metadata": {},
   "source": [
    "## / (Division)\n",
    "Returns the result of dividing the first operand by the second operand (float)."
   ]
  },
  {
   "cell_type": "code",
   "execution_count": 21,
   "id": "c236b755",
   "metadata": {},
   "outputs": [
    {
     "data": {
      "text/plain": [
       "3.142857142857143"
      ]
     },
     "execution_count": 21,
     "metadata": {},
     "output_type": "execute_result"
    }
   ],
   "source": [
    "22/7"
   ]
  },
  {
   "cell_type": "markdown",
   "id": "5bb5e14a",
   "metadata": {},
   "source": [
    "## // (Division is divisible by / division)\n",
    "* Returns the result of dividing the first operand by the second (an integer).\n",
    "* Unless one of the operands is a float, returns a float."
   ]
  },
  {
   "cell_type": "code",
   "execution_count": 14,
   "id": "4388de11",
   "metadata": {},
   "outputs": [
    {
     "data": {
      "text/plain": [
       "2"
      ]
     },
     "execution_count": 14,
     "metadata": {},
     "output_type": "execute_result"
    }
   ],
   "source": [
    "8//3"
   ]
  },
  {
   "cell_type": "markdown",
   "id": "29a054a2",
   "metadata": {},
   "source": [
    "## % (Modulo)\n",
    "Returns the remainder for"
   ]
  },
  {
   "cell_type": "code",
   "execution_count": 16,
   "id": "5d953ce0",
   "metadata": {},
   "outputs": [
    {
     "data": {
      "text/plain": [
       "1"
      ]
     },
     "execution_count": 16,
     "metadata": {},
     "output_type": "execute_result"
    }
   ],
   "source": [
    "10%3"
   ]
  },
  {
   "cell_type": "markdown",
   "id": "62e1de79",
   "metadata": {},
   "source": [
    "# Perbandingan "
   ]
  },
  {
   "cell_type": "markdown",
   "id": "1d70a1a4",
   "metadata": {},
   "source": [
    "## < (less than)\n",
    "* Performs a comparison whether the first operand is smaller than the second operand\n",
    "* Returns a boolean value True or False"
   ]
  },
  {
   "cell_type": "code",
   "execution_count": 3,
   "id": "eae6c533",
   "metadata": {},
   "outputs": [
    {
     "data": {
      "text/plain": [
       "False"
      ]
     },
     "execution_count": 3,
     "metadata": {},
     "output_type": "execute_result"
    }
   ],
   "source": [
    "10 < 5"
   ]
  },
  {
   "cell_type": "markdown",
   "id": "45f429b8",
   "metadata": {},
   "source": [
    "Comparison can contain more than two operands"
   ]
  },
  {
   "cell_type": "code",
   "execution_count": 8,
   "id": "44f082cd",
   "metadata": {},
   "outputs": [
    {
     "data": {
      "text/plain": [
       "False"
      ]
     },
     "execution_count": 8,
     "metadata": {},
     "output_type": "execute_result"
    }
   ],
   "source": [
    "2<10<1"
   ]
  },
  {
   "cell_type": "markdown",
   "id": "93b09d30",
   "metadata": {},
   "source": [
    "## > (greater than)\n",
    "* Performs a comparison whether the first operand is greater than the second operand\n",
    "* Returns a boolean value True or False"
   ]
  },
  {
   "cell_type": "code",
   "execution_count": 9,
   "id": "c57a6b90",
   "metadata": {},
   "outputs": [
    {
     "data": {
      "text/plain": [
       "True"
      ]
     },
     "execution_count": 9,
     "metadata": {},
     "output_type": "execute_result"
    }
   ],
   "source": [
    "5 > 1"
   ]
  },
  {
   "cell_type": "code",
   "execution_count": 10,
   "id": "3666e8c1",
   "metadata": {},
   "outputs": [
    {
     "data": {
      "text/plain": [
       "True"
      ]
     },
     "execution_count": 10,
     "metadata": {},
     "output_type": "execute_result"
    }
   ],
   "source": [
    "10 > 2 > 1"
   ]
  },
  {
   "cell_type": "markdown",
   "id": "d4ba2867",
   "metadata": {},
   "source": [
    "## <= (less than or equal to)\n",
    "* Performs a comparison whether the first operand is less than or equal to the second operand\n",
    "* Returns a boolean value True or False"
   ]
  },
  {
   "cell_type": "code",
   "execution_count": 32,
   "id": "487d076c",
   "metadata": {},
   "outputs": [
    {
     "data": {
      "text/plain": [
       "True"
      ]
     },
     "execution_count": 32,
     "metadata": {},
     "output_type": "execute_result"
    }
   ],
   "source": [
    "0.75 <= 4/2"
   ]
  },
  {
   "cell_type": "markdown",
   "id": "9c849b0c",
   "metadata": {},
   "source": [
    "## >= (greater than or equal to)\n",
    "* Performs a comparison whether the first operand is greater than or equal to the second operand\n",
    "* Returns a boolean value True or False"
   ]
  },
  {
   "cell_type": "code",
   "execution_count": 31,
   "id": "304abdda",
   "metadata": {},
   "outputs": [
    {
     "data": {
      "text/plain": [
       "True"
      ]
     },
     "execution_count": 31,
     "metadata": {},
     "output_type": "execute_result"
    }
   ],
   "source": [
    "0.75 >= 3/4"
   ]
  },
  {
   "cell_type": "markdown",
   "id": "4c28eb88",
   "metadata": {},
   "source": [
    "## == (equal to) \n",
    "* Performs a comparison whether the first operand is equal to the second operand \n",
    "* Returns a boolean value True or False"
   ]
  },
  {
   "cell_type": "code",
   "execution_count": 11,
   "id": "b77cb32d",
   "metadata": {},
   "outputs": [
    {
     "data": {
      "text/plain": [
       "True"
      ]
     },
     "execution_count": 11,
     "metadata": {},
     "output_type": "execute_result"
    }
   ],
   "source": [
    "3 == 3.0"
   ]
  },
  {
   "cell_type": "code",
   "execution_count": 12,
   "id": "f7b9c9f8",
   "metadata": {},
   "outputs": [
    {
     "data": {
      "text/plain": [
       "False"
      ]
     },
     "execution_count": 12,
     "metadata": {},
     "output_type": "execute_result"
    }
   ],
   "source": [
    "\"Valent\" == \"valent\""
   ]
  },
  {
   "cell_type": "markdown",
   "id": "181122df",
   "metadata": {},
   "source": [
    "## != (not equal to)\n",
    "* Performs a comparison whether the first operand is not the same as the second operand\n",
    "* Returns a boolean value True or False"
   ]
  },
  {
   "cell_type": "code",
   "execution_count": 13,
   "id": "16fd6f0c",
   "metadata": {},
   "outputs": [
    {
     "data": {
      "text/plain": [
       "True"
      ]
     },
     "execution_count": 13,
     "metadata": {},
     "output_type": "execute_result"
    }
   ],
   "source": [
    "x = 1\n",
    "y = 2\n",
    "x != y"
   ]
  },
  {
   "cell_type": "markdown",
   "id": "055d0919",
   "metadata": {},
   "source": [
    "# Boolean Operator"
   ]
  },
  {
   "cell_type": "markdown",
   "id": "1c98b7f0",
   "metadata": {},
   "source": [
    "## not (Boolean not)\n",
    "* If x is True, the function will return False\n",
    "* If x is False, the function will return True"
   ]
  },
  {
   "cell_type": "code",
   "execution_count": 14,
   "id": "b9d32e98",
   "metadata": {},
   "outputs": [
    {
     "data": {
      "text/plain": [
       "False"
      ]
     },
     "execution_count": 14,
     "metadata": {},
     "output_type": "execute_result"
    }
   ],
   "source": [
    "x = True\n",
    "not x"
   ]
  },
  {
   "cell_type": "markdown",
   "id": "23bd28b6",
   "metadata": {},
   "source": [
    "## and (boolean and)\n",
    "x and y will return False if x is False or the function will return y"
   ]
  },
  {
   "cell_type": "code",
   "execution_count": 16,
   "id": "f85f012e",
   "metadata": {},
   "outputs": [
    {
     "data": {
      "text/plain": [
       "True"
      ]
     },
     "execution_count": 16,
     "metadata": {},
     "output_type": "execute_result"
    }
   ],
   "source": [
    "x = True\n",
    "y = True\n",
    "x and y"
   ]
  },
  {
   "cell_type": "code",
   "execution_count": 17,
   "id": "c1ae9390",
   "metadata": {},
   "outputs": [
    {
     "data": {
      "text/plain": [
       "False"
      ]
     },
     "execution_count": 17,
     "metadata": {},
     "output_type": "execute_result"
    }
   ],
   "source": [
    "x = True\n",
    "y = False\n",
    "x and y"
   ]
  },
  {
   "cell_type": "code",
   "execution_count": 18,
   "id": "3e53c2ae",
   "metadata": {},
   "outputs": [
    {
     "data": {
      "text/plain": [
       "False"
      ]
     },
     "execution_count": 18,
     "metadata": {},
     "output_type": "execute_result"
    }
   ],
   "source": [
    "x = False\n",
    "y = True\n",
    "x and y"
   ]
  },
  {
   "cell_type": "code",
   "execution_count": 31,
   "id": "6d057772",
   "metadata": {},
   "outputs": [
    {
     "data": {
      "text/plain": [
       "False"
      ]
     },
     "execution_count": 31,
     "metadata": {},
     "output_type": "execute_result"
    }
   ],
   "source": [
    "x = False\n",
    "y = False\n",
    "x and y"
   ]
  },
  {
   "cell_type": "markdown",
   "id": "d560c45e",
   "metadata": {},
   "source": [
    "## or (boolean or)\n",
    "x or y. If x is True, the function will return True or the function will return the value of y"
   ]
  },
  {
   "cell_type": "markdown",
   "id": "1290cb74",
   "metadata": {},
   "source": [
    "In this case, Python also uses short-circuit evaluation because any value of y will not affect the result"
   ]
  },
  {
   "cell_type": "code",
   "execution_count": 39,
   "id": "548720db",
   "metadata": {},
   "outputs": [
    {
     "data": {
      "text/plain": [
       "True"
      ]
     },
     "execution_count": 39,
     "metadata": {},
     "output_type": "execute_result"
    }
   ],
   "source": [
    "x = True \n",
    "y = True\n",
    "x or y"
   ]
  },
  {
   "cell_type": "code",
   "execution_count": 40,
   "id": "2070a5ed",
   "metadata": {},
   "outputs": [
    {
     "data": {
      "text/plain": [
       "True"
      ]
     },
     "execution_count": 40,
     "metadata": {},
     "output_type": "execute_result"
    }
   ],
   "source": [
    "x = True\n",
    "y = False\n",
    "x or y"
   ]
  },
  {
   "cell_type": "code",
   "execution_count": 41,
   "id": "a80194b6",
   "metadata": {},
   "outputs": [
    {
     "data": {
      "text/plain": [
       "True"
      ]
     },
     "execution_count": 41,
     "metadata": {},
     "output_type": "execute_result"
    }
   ],
   "source": [
    "x = False \n",
    "y = True\n",
    "x or y"
   ]
  },
  {
   "cell_type": "code",
   "execution_count": 42,
   "id": "9564168c",
   "metadata": {},
   "outputs": [
    {
     "data": {
      "text/plain": [
       "False"
      ]
     },
     "execution_count": 42,
     "metadata": {},
     "output_type": "execute_result"
    }
   ],
   "source": [
    "x = False\n",
    "y = False\n",
    "x or y"
   ]
  },
  {
   "cell_type": "markdown",
   "id": "d3bfbb8b",
   "metadata": {},
   "source": [
    "# Short way to write operation\n",
    "If you reassign the results of an expression, some of them can be abbreviated"
   ]
  },
  {
   "cell_type": "code",
   "execution_count": 4,
   "id": "e23acac6",
   "metadata": {},
   "outputs": [],
   "source": [
    "a = 2"
   ]
  },
  {
   "cell_type": "code",
   "execution_count": 5,
   "id": "a3772576",
   "metadata": {},
   "outputs": [],
   "source": [
    "a = a*10"
   ]
  },
  {
   "cell_type": "code",
   "execution_count": 6,
   "id": "65674b4c",
   "metadata": {},
   "outputs": [
    {
     "name": "stdout",
     "output_type": "stream",
     "text": [
      "20\n"
     ]
    }
   ],
   "source": [
    "print(a)"
   ]
  },
  {
   "cell_type": "code",
   "execution_count": 7,
   "id": "6256a7be",
   "metadata": {},
   "outputs": [],
   "source": [
    "a = 2"
   ]
  },
  {
   "cell_type": "code",
   "execution_count": 8,
   "id": "44eab541",
   "metadata": {},
   "outputs": [],
   "source": [
    "a*=10"
   ]
  },
  {
   "cell_type": "code",
   "execution_count": 9,
   "id": "8a068c7e",
   "metadata": {},
   "outputs": [
    {
     "name": "stdout",
     "output_type": "stream",
     "text": [
      "20\n"
     ]
    }
   ],
   "source": [
    "print(a)"
   ]
  },
  {
   "cell_type": "markdown",
   "id": "1909d2aa",
   "metadata": {},
   "source": [
    "Usage examples in addition"
   ]
  },
  {
   "cell_type": "code",
   "execution_count": 12,
   "id": "34296cf9",
   "metadata": {},
   "outputs": [],
   "source": [
    "x = 20"
   ]
  },
  {
   "cell_type": "code",
   "execution_count": 13,
   "id": "5404fd38",
   "metadata": {},
   "outputs": [],
   "source": [
    "x = x + 80"
   ]
  },
  {
   "cell_type": "code",
   "execution_count": 14,
   "id": "eb9fc02e",
   "metadata": {},
   "outputs": [
    {
     "name": "stdout",
     "output_type": "stream",
     "text": [
      "100\n"
     ]
    }
   ],
   "source": [
    "print (x)"
   ]
  },
  {
   "cell_type": "code",
   "execution_count": 17,
   "id": "33226a31",
   "metadata": {},
   "outputs": [],
   "source": [
    "x = 20"
   ]
  },
  {
   "cell_type": "code",
   "execution_count": 18,
   "id": "738e0706",
   "metadata": {},
   "outputs": [],
   "source": [
    "x += 80"
   ]
  },
  {
   "cell_type": "code",
   "execution_count": 19,
   "id": "7be73b77",
   "metadata": {},
   "outputs": [
    {
     "name": "stdout",
     "output_type": "stream",
     "text": [
      "100\n"
     ]
    }
   ],
   "source": [
    "print (x)"
   ]
  },
  {
   "cell_type": "markdown",
   "id": "5fd96b42",
   "metadata": {},
   "source": [
    "# Mathematical order in evaluating\n",
    "- questions 1+2*3\n",
    "- Tips: Use brackets for easy readability and ensure proper order"
   ]
  },
  {
   "cell_type": "code",
   "execution_count": 20,
   "id": "84247139",
   "metadata": {},
   "outputs": [
    {
     "data": {
      "text/plain": [
       "25"
      ]
     },
     "execution_count": 20,
     "metadata": {},
     "output_type": "execute_result"
    }
   ],
   "source": [
    "10 + (5*3)"
   ]
  },
  {
   "cell_type": "code",
   "execution_count": 21,
   "id": "f7f802e8",
   "metadata": {},
   "outputs": [
    {
     "data": {
      "text/plain": [
       "25"
      ]
     },
     "execution_count": 21,
     "metadata": {},
     "output_type": "execute_result"
    }
   ],
   "source": [
    "10 + 5*3"
   ]
  }
 ],
 "metadata": {
  "kernelspec": {
   "display_name": "Python 3 (ipykernel)",
   "language": "python",
   "name": "python3"
  },
  "language_info": {
   "codemirror_mode": {
    "name": "ipython",
    "version": 3
   },
   "file_extension": ".py",
   "mimetype": "text/x-python",
   "name": "python",
   "nbconvert_exporter": "python",
   "pygments_lexer": "ipython3",
   "version": "3.9.12"
  }
 },
 "nbformat": 4,
 "nbformat_minor": 5
}
