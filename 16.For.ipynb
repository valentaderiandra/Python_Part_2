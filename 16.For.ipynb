{
 "cells": [
  {
   "cell_type": "markdown",
   "id": "74610b64",
   "metadata": {},
   "source": [
    "# For\n",
    "* For is a function that can iterate on each type of variable in the form of a collection or sequence\n",
    "* The variable in question can be a list, string or range\n",
    "* If a list or sequence contains an expression, it will be evaluated first\n",
    "* Then the first item in the sequence/list will be designed as iterating_var . variable\n",
    "* After that, the statement block will be executed, continue to the next item, iterates until the entire sequence runs out."
   ]
  },
  {
   "cell_type": "code",
   "execution_count": 2,
   "id": "03700f0a",
   "metadata": {},
   "outputs": [
    {
     "name": "stdout",
     "output_type": "stream",
     "text": [
      "letter d\n",
      "letter a\n",
      "letter t\n",
      "letter a\n"
     ]
    }
   ],
   "source": [
    "for i in 'data':\n",
    "    print(\"letter {}\".format(i))"
   ]
  },
  {
   "cell_type": "code",
   "execution_count": 4,
   "id": "45638ae1",
   "metadata": {},
   "outputs": [
    {
     "name": "stdout",
     "output_type": "stream",
     "text": [
      "red colour \n",
      "yellow colour \n",
      "green colour \n"
     ]
    }
   ],
   "source": [
    "colour = ['red','yellow','green']\n",
    "\n",
    "for i in colour :\n",
    "\tprint(format(i),\"colour \")"
   ]
  },
  {
   "cell_type": "code",
   "execution_count": 5,
   "id": "46cd60c4",
   "metadata": {},
   "outputs": [
    {
     "name": "stdout",
     "output_type": "stream",
     "text": [
      "0\n",
      "1\n",
      "2\n"
     ]
    }
   ],
   "source": [
    "for i in range (3):\n",
    "\tprint(i)"
   ]
  },
  {
   "cell_type": "code",
   "execution_count": 6,
   "id": "090b47f4",
   "metadata": {},
   "outputs": [
    {
     "name": "stdout",
     "output_type": "stream",
     "text": [
      "1\n",
      "2\n",
      "3\n"
     ]
    }
   ],
   "source": [
    "for i in range (1,4):\n",
    "\tprint(i)"
   ]
  },
  {
   "cell_type": "markdown",
   "id": "2960c12a",
   "metadata": {},
   "source": [
    "# Task 1"
   ]
  },
  {
   "cell_type": "code",
   "execution_count": 7,
   "id": "c9a32c5b",
   "metadata": {},
   "outputs": [
    {
     "name": "stdout",
     "output_type": "stream",
     "text": [
      "Programing Language python\n",
      "Programing Language sql\n",
      "Programing Language java\n",
      "Programing Language html\n",
      "Programing Language css\n",
      "Programing Language javascript\n",
      "Programing Language r\n"
     ]
    }
   ],
   "source": [
    "programinglanguage = ['python','sql','java','html','css','javascript','r']\n",
    "\n",
    "for i in programinglanguage :\n",
    "\tprint (\"Programing Language\",i)"
   ]
  },
  {
   "cell_type": "code",
   "execution_count": 11,
   "id": "2200dc4d",
   "metadata": {},
   "outputs": [
    {
     "name": "stdout",
     "output_type": "stream",
     "text": [
      "huruf V\n",
      "huruf a\n",
      "huruf l\n",
      "huruf e\n",
      "huruf n\n",
      "huruf t\n",
      "huruf  \n",
      "huruf A\n",
      "huruf d\n",
      "huruf e\n",
      "huruf r\n",
      "huruf i\n",
      "huruf a\n",
      "huruf n\n",
      "huruf d\n",
      "huruf a\n",
      "huruf  \n",
      "huruf i\n",
      "huruf s\n",
      "huruf  \n",
      "huruf 2\n",
      "huruf 0\n",
      "huruf  \n",
      "huruf y\n",
      "huruf e\n",
      "huruf a\n",
      "huruf r\n",
      "huruf s\n",
      "huruf  \n",
      "huruf o\n",
      "huruf l\n",
      "huruf d\n"
     ]
    }
   ],
   "source": [
    "for i in \"Valent Aderianda is 20 years old\" :\n",
    "\tprint(f\"huruf {i}\")"
   ]
  },
  {
   "cell_type": "code",
   "execution_count": 12,
   "id": "52136249",
   "metadata": {},
   "outputs": [
    {
     "name": "stdout",
     "output_type": "stream",
     "text": [
      "2\n",
      "4\n",
      "6\n",
      "8\n",
      "10\n"
     ]
    }
   ],
   "source": [
    "for i in range(2,11,2) :\n",
    "    print (i) "
   ]
  },
  {
   "cell_type": "markdown",
   "id": "8181e706",
   "metadata": {},
   "source": [
    "# For Multilevel :"
   ]
  },
  {
   "cell_type": "code",
   "execution_count": 34,
   "id": "1b1f6442",
   "metadata": {},
   "outputs": [
    {
     "name": "stdout",
     "output_type": "stream",
     "text": [
      "* * * \n",
      "* * \n",
      "* \n"
     ]
    }
   ],
   "source": [
    "for row in range(3):\n",
    "\tfor col in range (3) :\n",
    "\t\tif row == 0 and col <= 2 :\n",
    "\t\t\tprint (\"*\",end = \" \")\n",
    "\t\telif row == 1 and col <= 1 :\n",
    "\t\t\tprint(\"*\",end = \" \")\n",
    "\t\telif row == 2 and col == 0 :\n",
    "\t\t\tprint (\"*\",end = \" \")\n",
    "\tprint ()"
   ]
  },
  {
   "cell_type": "code",
   "execution_count": 38,
   "id": "7e2a6a09",
   "metadata": {},
   "outputs": [
    {
     "name": "stdout",
     "output_type": "stream",
     "text": [
      "* * * * \n",
      "* * * \n",
      "* * \n",
      "* \n"
     ]
    }
   ],
   "source": [
    "for row in range(4):\n",
    "\tfor col in range (4) :\n",
    "\t\tif row == 0 and col <= 3 :\n",
    "\t\t\tprint (\"*\",end = \" \")\n",
    "\t\telif row == 1 and col <= 2 :\n",
    "\t\t\tprint(\"*\",end = \" \")\n",
    "\t\telif row == 2 and col <=1 :\n",
    "\t\t\tprint (\"*\",end = \" \")\n",
    "\t\telif row == 3 and col ==0 :\n",
    "\t\t\tprint (\"*\",end = \" \")\n",
    "\tprint ()"
   ]
  },
  {
   "cell_type": "code",
   "execution_count": 48,
   "id": "48e704fe",
   "metadata": {},
   "outputs": [
    {
     "name": "stdout",
     "output_type": "stream",
     "text": [
      "     * \n",
      "    * * \n",
      "   * * * \n",
      "  * * * * \n",
      " * * * * * \n"
     ]
    }
   ],
   "source": [
    "for i in range (1,6):\n",
    "\tfor j in range(i,6): #for spacing\n",
    "\t\tprint(end=\" \")\n",
    "\tfor x in range (0,i): # for star output\n",
    "\t\tprint(\"*\",end=\" \")\n",
    "\tprint()"
   ]
  },
  {
   "cell_type": "markdown",
   "id": "182fdcb0",
   "metadata": {},
   "source": [
    "# Write Letters in Python\n",
    "Trying to display letters using the asterisk (*) symbol in python"
   ]
  },
  {
   "cell_type": "code",
   "execution_count": 58,
   "id": "c2c3323b",
   "metadata": {},
   "outputs": [
    {
     "name": "stdout",
     "output_type": "stream",
     "text": [
      "*     *\n",
      " *   * \n",
      "  * *  \n",
      "   *   \n",
      "\n",
      "\n",
      "\n",
      "\n",
      "\n",
      "\n"
     ]
    }
   ],
   "source": [
    "#Display Letter V\n",
    "\n",
    "i=0\n",
    "j=6\n",
    "\n",
    "for row in range (4) :\n",
    "\tfor col in range (7) : \n",
    "\t\tif row==col :\n",
    "\t\t\tprint(\"*\",end=\"\")\n",
    "\t\telif row==i and col==j:\n",
    "\t\t\tprint(\"*\",end=\"\") \n",
    "\t\t\ti = i+1\n",
    "\t\t\tj = j-1\n",
    "\t\telse : \n",
    "\t\t\tprint(end=\" \")\n",
    "\tprint()\n",
    "\n",
    "    \n",
    "for row in range (6) :\n",
    "\tfor col in range (19,24) : \n",
    "\t\tif col == 6 or (row==24 and col>6) :\n",
    "\t\t\tprint(\"*\",end=\"\")\n",
    "\tprint()"
   ]
  },
  {
   "cell_type": "code",
   "execution_count": 1,
   "id": "eeafa78a",
   "metadata": {},
   "outputs": [
    {
     "name": "stdout",
     "output_type": "stream",
     "text": [
      "*\n",
      "*\n",
      "*\n",
      "*\n",
      "*\n",
      "*\n",
      "*****\n"
     ]
    }
   ],
   "source": [
    "# Display the letter L\n",
    "for row in range (7) :\n",
    "\tfor col in range (5) : \n",
    "\t\tif col == 0 or (row==6 and col>0) :\n",
    "\t\t\tprint(\"*\",end=\"\")\n",
    "\tprint()"
   ]
  },
  {
   "cell_type": "markdown",
   "id": "c4fb546b",
   "metadata": {},
   "source": [
    "# Else after For"
   ]
  },
  {
   "cell_type": "markdown",
   "id": "c3430350",
   "metadata": {},
   "source": [
    "The else function after for is a function that takes precedence over search loops - to provide a program exit when the search is not found."
   ]
  },
  {
   "cell_type": "code",
   "execution_count": 5,
   "id": "4ca92912",
   "metadata": {},
   "outputs": [
    {
     "name": "stdout",
     "output_type": "stream",
     "text": [
      "1 is odd\n",
      "2 is even\n",
      "3 is odd\n",
      "4 is even\n",
      "5 is odd\n",
      "6 is even\n"
     ]
    }
   ],
   "source": [
    "# Displays even numbers 1 to 6\n",
    "for i in range (1,7):\n",
    "    if i % 2 == 0 :\n",
    "        print(\"{} is even\".format(i))\n",
    "    else :\n",
    "        print(\"{} is odd\".format(i))"
   ]
  }
 ],
 "metadata": {
  "kernelspec": {
   "display_name": "Python 3 (ipykernel)",
   "language": "python",
   "name": "python3"
  },
  "language_info": {
   "codemirror_mode": {
    "name": "ipython",
    "version": 3
   },
   "file_extension": ".py",
   "mimetype": "text/x-python",
   "name": "python",
   "nbconvert_exporter": "python",
   "pygments_lexer": "ipython3",
   "version": "3.9.12"
  }
 },
 "nbformat": 4,
 "nbformat_minor": 5
}
