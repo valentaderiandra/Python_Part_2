{
 "cells": [
  {
   "cell_type": "markdown",
   "id": "4d674914",
   "metadata": {},
   "source": [
    "# Pass\n"
   ]
  },
  {
   "cell_type": "markdown",
   "id": "0e3599d9",
   "metadata": {},
   "source": [
    "Used when we want a statement or block of statements, but do nothing - continue execution in the order in which it was ordered."
   ]
  },
  {
   "cell_type": "markdown",
   "id": "9ff8bb1b",
   "metadata": {},
   "source": [
    "This control is mostly used when we have not implemented (or prepared a place for implementation), and let the program continue to run when for example we experience a failure or exception."
   ]
  },
  {
   "cell_type": "markdown",
   "id": "6b191a94",
   "metadata": {},
   "source": [
    "Pass statement is a Null (empty) operation, nothing happens when it is called"
   ]
  },
  {
   "cell_type": "code",
   "execution_count": 1,
   "id": "fd73fa42",
   "metadata": {
    "scrolled": true
   },
   "outputs": [
    {
     "ename": "IndentationError",
     "evalue": "expected an indented block (2991136281.py, line 3)",
     "output_type": "error",
     "traceback": [
      "\u001b[1;36m  Input \u001b[1;32mIn [1]\u001b[1;36m\u001b[0m\n\u001b[1;33m    for val in sequence:\u001b[0m\n\u001b[1;37m                        ^\u001b[0m\n\u001b[1;31mIndentationError\u001b[0m\u001b[1;31m:\u001b[0m expected an indented block\n"
     ]
    }
   ],
   "source": [
    "#Before using the pass\n",
    "sequence = {'p', 'a', 's', 's'}\n",
    "for val in sequence:"
   ]
  },
  {
   "cell_type": "code",
   "execution_count": 2,
   "id": "be6a0b5c",
   "metadata": {},
   "outputs": [],
   "source": [
    "#After using pass\n",
    "sequence = {'p', 'a', 's', 's'}\n",
    "for val in sequence:\n",
    "    pass"
   ]
  },
  {
   "cell_type": "code",
   "execution_count": 3,
   "id": "6464da4e",
   "metadata": {},
   "outputs": [
    {
     "name": "stdout",
     "output_type": "stream",
     "text": [
      "get : 1\n",
      "Get numbers 1\n",
      "get : valent\n",
      "Got error <class 'ValueError'>\n",
      "get : z\n"
     ]
    }
   ],
   "source": [
    "#Task 1\n",
    "import sys\n",
    "\n",
    "n = ''\n",
    "\n",
    "while (n!=\"z\"):\n",
    "\ttry :\n",
    "\t\tn = (input(\"get : \"))\n",
    "\t\tprint(\"Get numbers {}\".format(int(n)))\n",
    "\texcept :\n",
    "\t\tif n == 'z':\n",
    "\t\t\tpass \n",
    "\t\telse :\n",
    "\t\t\tprint ('Got error {}'.format(sys.exc_info()[0]))"
   ]
  }
 ],
 "metadata": {
  "kernelspec": {
   "display_name": "Python 3 (ipykernel)",
   "language": "python",
   "name": "python3"
  },
  "language_info": {
   "codemirror_mode": {
    "name": "ipython",
    "version": 3
   },
   "file_extension": ".py",
   "mimetype": "text/x-python",
   "name": "python",
   "nbconvert_exporter": "python",
   "pygments_lexer": "ipython3",
   "version": "3.9.12"
  }
 },
 "nbformat": 4,
 "nbformat_minor": 5
}
