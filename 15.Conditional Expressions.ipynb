{
 "cells": [
  {
   "cell_type": "markdown",
   "id": "ff04a495",
   "metadata": {},
   "source": [
    "# Conditional Expressions"
   ]
  },
  {
   "cell_type": "markdown",
   "id": "245757e8",
   "metadata": {},
   "source": [
    "# If\n",
    "* In python, the expression is placed after the if and the decision is determined based on the truth value of the expression.\n",
    "* If the expression evaluates to True, the block of statements inside the if statement will be executed.\n",
    "* By convention, this block is indented after a colon (:)\n",
    "* If the expression evaluates to False, then the next block (after the IF statement) will be executed"
   ]
  },
  {
   "cell_type": "code",
   "execution_count": 1,
   "id": "38b3ce21",
   "metadata": {},
   "outputs": [
    {
     "name": "stdout",
     "output_type": "stream",
     "text": [
      "My name is Valent Adriandra\n"
     ]
    }
   ],
   "source": [
    "myname = \"Valent Adriandra\"\n",
    "\n",
    "if myname :\n",
    "    print(\"My name is {}\".format(myname))"
   ]
  },
  {
   "cell_type": "markdown",
   "id": "9c1923a6",
   "metadata": {},
   "source": [
    "# Task 1"
   ]
  },
  {
   "cell_type": "code",
   "execution_count": 12,
   "id": "b0999bf0",
   "metadata": {},
   "outputs": [
    {
     "name": "stdout",
     "output_type": "stream",
     "text": [
      "Input your phone number :081230254768\n",
      "Your phone number is  81230254768\n"
     ]
    }
   ],
   "source": [
    "phonenumber = int(input (\"Input your phone number :\"))\n",
    "\n",
    "if phonenumber :\n",
    "\tprint(\"Your phone number is \",phonenumber)"
   ]
  },
  {
   "cell_type": "markdown",
   "id": "851cbfe5",
   "metadata": {},
   "source": [
    "The default input is a string. But if you use format, the output will be a string data type even though you use int(input())"
   ]
  },
  {
   "cell_type": "code",
   "execution_count": 15,
   "id": "62a8a956",
   "metadata": {},
   "outputs": [
    {
     "name": "stdout",
     "output_type": "stream",
     "text": [
      "Input your phone number :081230254768\n",
      "Your phone number is 81230254768\n"
     ]
    }
   ],
   "source": [
    "phonenumber = int(input (\"Input your phone number :\"))\n",
    "\n",
    "if phonenumber :\n",
    "\tprint('Your phone number is {}'.format(phonenumber))"
   ]
  },
  {
   "cell_type": "code",
   "execution_count": 18,
   "id": "3ecae246",
   "metadata": {},
   "outputs": [
    {
     "name": "stdout",
     "output_type": "stream",
     "text": [
      "<class 'str'>\n"
     ]
    }
   ],
   "source": [
    "print(type(format(phonenumber)))"
   ]
  },
  {
   "cell_type": "markdown",
   "id": "09e7a95f",
   "metadata": {},
   "source": [
    "An example of using the third method\n",
    "* %s - String\n",
    "* %d - Integers\n",
    "* %f - Decimal Number"
   ]
  },
  {
   "cell_type": "code",
   "execution_count": 4,
   "id": "35d721a4",
   "metadata": {},
   "outputs": [
    {
     "name": "stdout",
     "output_type": "stream",
     "text": [
      "What is your name ?Valent Aderiandra\n",
      "how old are you ?20\n",
      "What is your height ?176\n",
      "how much is 1 +1.5 ?2.5\n",
      "Valent Aderiandra age is 20 years old and height is 176.000000 cm.\n"
     ]
    }
   ],
   "source": [
    "name = input (\"What is your name ?\")\n",
    "age     = int(input(\"how old are you ?\"))\n",
    "height  = float(input(\"What is your height ?\"))\n",
    "captcha = float(input(\"how much is 1 +1.5 ?\"))\n",
    "\n",
    "if captcha == 2.5 :\n",
    "\tprint (\"%s age is %d years old and height is %f cm.\"%(name,age,height))\n",
    "else :\n",
    "\tprint (\"Wrong value 1+1.5\")"
   ]
  },
  {
   "cell_type": "markdown",
   "id": "0675c983",
   "metadata": {},
   "source": [
    "# Else\n",
    "* Else statement can be combined with IF Statement, as a way out when the condition / evaluation result is False.\n",
    "* Else is optional and singular."
   ]
  },
  {
   "cell_type": "code",
   "execution_count": 6,
   "id": "8be6390a",
   "metadata": {},
   "outputs": [
    {
     "name": "stdout",
     "output_type": "stream",
     "text": [
      "Your age : 20\n",
      "Already have residence indentification card.\n"
     ]
    }
   ],
   "source": [
    "age = int(input(\"Your age : \"))\n",
    "\n",
    "if age >=17 :\n",
    "    print(\"Already have residence indentification card.\")\n",
    "else :\n",
    "    print(\"Don't have residence indentification card.\")"
   ]
  },
  {
   "cell_type": "markdown",
   "id": "3570c426",
   "metadata": {},
   "source": [
    "# Elif\n",
    "* Elif stands for else if\n",
    "* Elif is an alternative to nested if\n",
    "* An IF Statement can be written one or more elif statements (optional & not limited)"
   ]
  },
  {
   "cell_type": "code",
   "execution_count": 7,
   "id": "ffdde543",
   "metadata": {},
   "outputs": [
    {
     "name": "stdout",
     "output_type": "stream",
     "text": [
      "What is your value : 77\n",
      "You got a B\n"
     ]
    }
   ],
   "source": [
    "value = float(input(\"What is your value : \"))\n",
    "\n",
    "if value >=80 :\n",
    "    print(\"You got an A\")\n",
    "elif value >=60 :\n",
    "    print(\"You got a B\")\n",
    "else :\n",
    "    print(\"You got the value c\")"
   ]
  },
  {
   "cell_type": "code",
   "execution_count": 11,
   "id": "bda25ebf",
   "metadata": {},
   "outputs": [
    {
     "name": "stdout",
     "output_type": "stream",
     "text": [
      "Enter your year of birth: 2002\n",
      "You are in the Gen Z category\n"
     ]
    }
   ],
   "source": [
    "year = int(input(\"Enter your year of birth: \"))\n",
    "\n",
    "if year >= 2010 :\n",
    "    print(\"You are in the Gen Alpha category\")\n",
    "elif year >= 1996 :\n",
    "    print(\"You are in the Gen Z category\")\n",
    "elif year >= 1965 :\n",
    "    print(\"You are in the Gen X category\")\n",
    "else :\n",
    "    print(\"You are in the Baby Boomer category\")"
   ]
  }
 ],
 "metadata": {
  "kernelspec": {
   "display_name": "Python 3 (ipykernel)",
   "language": "python",
   "name": "python3"
  },
  "language_info": {
   "codemirror_mode": {
    "name": "ipython",
    "version": 3
   },
   "file_extension": ".py",
   "mimetype": "text/x-python",
   "name": "python",
   "nbconvert_exporter": "python",
   "pygments_lexer": "ipython3",
   "version": "3.9.12"
  }
 },
 "nbformat": 4,
 "nbformat_minor": 5
}
