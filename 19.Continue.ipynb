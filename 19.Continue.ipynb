{
 "cells": [
  {
   "cell_type": "markdown",
   "id": "eaf917e6",
   "metadata": {},
   "source": [
    "# Continue\n",
    "* The continue statement will stop the current iteration\n",
    "* Then move on to the next iteration\n",
    "* Ignores statements between continue and the end of the loop block"
   ]
  },
  {
   "cell_type": "markdown",
   "id": "8cfc6e0b",
   "metadata": {},
   "source": [
    "Using List"
   ]
  },
  {
   "cell_type": "code",
   "execution_count": 6,
   "id": "0a7b66bb",
   "metadata": {},
   "outputs": [
    {
     "name": "stdout",
     "output_type": "stream",
     "text": [
      "Valent\n",
      "Aderiandra\n"
     ]
    }
   ],
   "source": [
    "# I want to skip output if I meet the string \"Rafael\", so it only shows Valent and Adriandra\n",
    "for i in [\"Valent\",\"Rafael\",\"Aderiandra\"] :\n",
    "    if i == \"Rafael\" :\n",
    "        continue\n",
    "    print(i)"
   ]
  },
  {
   "cell_type": "markdown",
   "id": "ff70f160",
   "metadata": {},
   "source": [
    "Using Range"
   ]
  },
  {
   "cell_type": "code",
   "execution_count": 11,
   "id": "700dc243",
   "metadata": {},
   "outputs": [
    {
     "name": "stdout",
     "output_type": "stream",
     "text": [
      "V\n",
      "a\n",
      "l\n",
      "e\n",
      "n\n",
      "t\n",
      " \n",
      "R\n",
      "a\n",
      "f\n",
      "a\n",
      "e\n",
      "l\n",
      " \n",
      "A\n",
      "d\n",
      "e\n",
      "r\n",
      "i\n",
      "a\n",
      "n\n",
      "d\n",
      "r\n",
      "a\n"
     ]
    }
   ],
   "source": [
    "for i in \"Valent Rafael Aderiandra\" :\n",
    "\tif i == \"Rafael\" :\n",
    "\t\tcontinue\n",
    "\tprint (i)"
   ]
  },
  {
   "cell_type": "code",
   "execution_count": 7,
   "id": "528b3692",
   "metadata": {},
   "outputs": [
    {
     "name": "stdout",
     "output_type": "stream",
     "text": [
      "The following are odd numbers up to 9 : 1\n",
      "The following are odd numbers up to 9 : 3\n",
      "The following are odd numbers up to 9 : 5\n",
      "The following are odd numbers up to 9 : 7\n",
      "The following are odd numbers up to 9 : 9\n"
     ]
    }
   ],
   "source": [
    "for i in range(0,10,1):\n",
    "\tif i %2 == 0 :\n",
    "\t\tcontinue\n",
    "\tprint(\"The following are odd numbers up to 9 : {}\".format(i))"
   ]
  }
 ],
 "metadata": {
  "kernelspec": {
   "display_name": "Python 3 (ipykernel)",
   "language": "python",
   "name": "python3"
  },
  "language_info": {
   "codemirror_mode": {
    "name": "ipython",
    "version": 3
   },
   "file_extension": ".py",
   "mimetype": "text/x-python",
   "name": "python",
   "nbconvert_exporter": "python",
   "pygments_lexer": "ipython3",
   "version": "3.9.12"
  }
 },
 "nbformat": 4,
 "nbformat_minor": 5
}
