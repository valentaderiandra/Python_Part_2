{
 "cells": [
  {
   "cell_type": "markdown",
   "id": "68d54099",
   "metadata": {},
   "source": [
    "# Exceptions"
   ]
  },
  {
   "cell_type": "markdown",
   "id": "23975f77",
   "metadata": {},
   "source": [
    "Exceptions (exceptions) or often called errors while operating (runtime errors)\n",
    "* Even if the statement or expression from Python we have written correctly, there may be errors when the command is executed.\n",
    "* Errors that occur while the process is in progress are called exceptions and can be fatal if not handled.\n",
    "* Most exceptions in Python are not handled by the application so the application crashes and then an error message appears."
   ]
  },
  {
   "cell_type": "markdown",
   "id": "c26f97b3",
   "metadata": {},
   "source": [
    "For example, we forget to assign a value to a variable. However, we directly call the variable."
   ]
  },
  {
   "cell_type": "code",
   "execution_count": 1,
   "id": "c3627a12",
   "metadata": {},
   "outputs": [
    {
     "ename": "NameError",
     "evalue": "name 'data' is not defined",
     "output_type": "error",
     "traceback": [
      "\u001b[1;31m---------------------------------------------------------------------------\u001b[0m",
      "\u001b[1;31mNameError\u001b[0m                                 Traceback (most recent call last)",
      "Input \u001b[1;32mIn [1]\u001b[0m, in \u001b[0;36m<cell line: 1>\u001b[1;34m()\u001b[0m\n\u001b[1;32m----> 1\u001b[0m \u001b[38;5;28mprint\u001b[39m(\u001b[43mdata\u001b[49m)\n",
      "\u001b[1;31mNameError\u001b[0m: name 'data' is not defined"
     ]
    }
   ],
   "source": [
    "print(data)"
   ]
  },
  {
   "cell_type": "markdown",
   "id": "98d7b997",
   "metadata": {},
   "source": [
    "Suppose a variable of type string is operated with a number (type integer)"
   ]
  },
  {
   "cell_type": "code",
   "execution_count": 1,
   "id": "d1315aed",
   "metadata": {},
   "outputs": [],
   "source": [
    "one = \"1\""
   ]
  },
  {
   "cell_type": "code",
   "execution_count": 2,
   "id": "d68689e3",
   "metadata": {},
   "outputs": [
    {
     "ename": "TypeError",
     "evalue": "can only concatenate str (not \"int\") to str",
     "output_type": "error",
     "traceback": [
      "\u001b[1;31m---------------------------------------------------------------------------\u001b[0m",
      "\u001b[1;31mTypeError\u001b[0m                                 Traceback (most recent call last)",
      "Input \u001b[1;32mIn [2]\u001b[0m, in \u001b[0;36m<cell line: 1>\u001b[1;34m()\u001b[0m\n\u001b[1;32m----> 1\u001b[0m \u001b[43mone\u001b[49m\u001b[43m \u001b[49m\u001b[38;5;241;43m+\u001b[39;49m\u001b[43m \u001b[49m\u001b[38;5;241;43m2\u001b[39;49m\n",
      "\u001b[1;31mTypeError\u001b[0m: can only concatenate str (not \"int\") to str"
     ]
    }
   ],
   "source": [
    "one + 2"
   ]
  },
  {
   "cell_type": "markdown",
   "id": "fbf40073",
   "metadata": {},
   "source": [
    "To find out the various types of default exceptions in Python, you can visit the documentation site for Python, namely\n",
    "https://docs.python.org/id/3.8/library/exceptions.html"
   ]
  }
 ],
 "metadata": {
  "kernelspec": {
   "display_name": "Python 3 (ipykernel)",
   "language": "python",
   "name": "python3"
  },
  "language_info": {
   "codemirror_mode": {
    "name": "ipython",
    "version": 3
   },
   "file_extension": ".py",
   "mimetype": "text/x-python",
   "name": "python",
   "nbconvert_exporter": "python",
   "pygments_lexer": "ipython3",
   "version": "3.9.12"
  }
 },
 "nbformat": 4,
 "nbformat_minor": 5
}
