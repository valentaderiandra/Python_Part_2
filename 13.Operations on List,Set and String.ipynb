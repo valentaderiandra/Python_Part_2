{
 "cells": [
  {
   "cell_type": "markdown",
   "id": "d4102924",
   "metadata": {},
   "source": [
    "# Operasi pada List,Set dan String"
   ]
  },
  {
   "cell_type": "markdown",
   "id": "a2c39499",
   "metadata": {},
   "source": [
    "# len()\n",
    "The difference between list and set is that set displays unique only while list displays all data\n",
    "* Previously we already know that slicing is used for sequences.\n",
    "* len() which will calculate the length or number of elements of the List (for String to count the number of characters)."
   ]
  },
  {
   "cell_type": "markdown",
   "id": "d020c8fa",
   "metadata": {},
   "source": [
    "Len() on list"
   ]
  },
  {
   "cell_type": "code",
   "execution_count": 1,
   "id": "09b9b61b",
   "metadata": {},
   "outputs": [
    {
     "name": "stdout",
     "output_type": "stream",
     "text": [
      "[3, 5, 5, 7, 7, 7]\n"
     ]
    }
   ],
   "source": [
    "a = [3,5,5,7,7,7]\n",
    "print(a)"
   ]
  },
  {
   "cell_type": "code",
   "execution_count": 2,
   "id": "1fa436f2",
   "metadata": {},
   "outputs": [
    {
     "data": {
      "text/plain": [
       "6"
      ]
     },
     "execution_count": 2,
     "metadata": {},
     "output_type": "execute_result"
    }
   ],
   "source": [
    "len (a)"
   ]
  },
  {
   "cell_type": "markdown",
   "id": "dea66905",
   "metadata": {},
   "source": [
    "Len() on Set"
   ]
  },
  {
   "cell_type": "code",
   "execution_count": 3,
   "id": "bba9c869",
   "metadata": {},
   "outputs": [
    {
     "name": "stdout",
     "output_type": "stream",
     "text": [
      "{3, 5, 7}\n"
     ]
    }
   ],
   "source": [
    "b = {3,5,5,7,7,7}\n",
    "print(b)"
   ]
  },
  {
   "cell_type": "code",
   "execution_count": 4,
   "id": "58100960",
   "metadata": {},
   "outputs": [
    {
     "data": {
      "text/plain": [
       "3"
      ]
     },
     "execution_count": 4,
     "metadata": {},
     "output_type": "execute_result"
    }
   ],
   "source": [
    "len(b)"
   ]
  },
  {
   "cell_type": "markdown",
   "id": "31ba0cdf",
   "metadata": {},
   "source": [
    "len() on string"
   ]
  },
  {
   "cell_type": "code",
   "execution_count": 5,
   "id": "4c42e502",
   "metadata": {},
   "outputs": [],
   "source": [
    "c = \"Valent Aderiandra\""
   ]
  },
  {
   "cell_type": "code",
   "execution_count": 6,
   "id": "44ef2910",
   "metadata": {},
   "outputs": [
    {
     "name": "stdout",
     "output_type": "stream",
     "text": [
      "Valent Aderiandra\n"
     ]
    }
   ],
   "source": [
    "print(c)"
   ]
  },
  {
   "cell_type": "code",
   "execution_count": 7,
   "id": "447f42e2",
   "metadata": {},
   "outputs": [
    {
     "data": {
      "text/plain": [
       "17"
      ]
     },
     "execution_count": 7,
     "metadata": {},
     "output_type": "execute_result"
    }
   ],
   "source": [
    "len(c) "
   ]
  },
  {
   "cell_type": "markdown",
   "id": "718d9b59",
   "metadata": {},
   "source": [
    "# min() and max()\n",
    "The min() and max() functions are ways to find some minimum and maximum values from a list."
   ]
  },
  {
   "cell_type": "markdown",
   "id": "8f69ed10",
   "metadata": {},
   "source": [
    "MIN() and MAX() cannot be concatenated together between string and number"
   ]
  },
  {
   "cell_type": "code",
   "execution_count": 11,
   "id": "9e912c2a",
   "metadata": {},
   "outputs": [],
   "source": [
    "a = [3,5,5,7,7,7]"
   ]
  },
  {
   "cell_type": "code",
   "execution_count": 12,
   "id": "6ef8d5c2",
   "metadata": {},
   "outputs": [
    {
     "data": {
      "text/plain": [
       "3"
      ]
     },
     "execution_count": 12,
     "metadata": {},
     "output_type": "execute_result"
    }
   ],
   "source": [
    "min(a)"
   ]
  },
  {
   "cell_type": "code",
   "execution_count": 13,
   "id": "b3cc73dd",
   "metadata": {},
   "outputs": [
    {
     "data": {
      "text/plain": [
       "7"
      ]
     },
     "execution_count": 13,
     "metadata": {},
     "output_type": "execute_result"
    }
   ],
   "source": [
    "max(a)"
   ]
  },
  {
   "cell_type": "markdown",
   "id": "a0f90b00",
   "metadata": {},
   "source": [
    "# Count()\n",
    "The count() function is used to find out how many times an object appears in the list."
   ]
  },
  {
   "cell_type": "code",
   "execution_count": 14,
   "id": "3580033d",
   "metadata": {},
   "outputs": [
    {
     "data": {
      "text/plain": [
       "3"
      ]
     },
     "execution_count": 14,
     "metadata": {},
     "output_type": "execute_result"
    }
   ],
   "source": [
    "a = [3,5,5,7,7,7]\n",
    "a.count(7)"
   ]
  },
  {
   "cell_type": "code",
   "execution_count": 15,
   "id": "9c4187bd",
   "metadata": {},
   "outputs": [
    {
     "data": {
      "text/plain": [
       "2"
      ]
     },
     "execution_count": 15,
     "metadata": {},
     "output_type": "execute_result"
    }
   ],
   "source": [
    "c = \"Data Science\"\n",
    "c.count(\"a\")"
   ]
  },
  {
   "cell_type": "markdown",
   "id": "e11cf5c3",
   "metadata": {},
   "source": [
    "# Task 1"
   ]
  },
  {
   "cell_type": "code",
   "execution_count": 16,
   "id": "e2acc5d3",
   "metadata": {},
   "outputs": [],
   "source": [
    "teststring = \"valent aderiandra\""
   ]
  },
  {
   "cell_type": "code",
   "execution_count": 17,
   "id": "a4aeb3e0",
   "metadata": {},
   "outputs": [
    {
     "data": {
      "text/plain": [
       "' '"
      ]
     },
     "execution_count": 17,
     "metadata": {},
     "output_type": "execute_result"
    }
   ],
   "source": [
    "min(teststring)"
   ]
  },
  {
   "cell_type": "code",
   "execution_count": 18,
   "id": "9c14b370",
   "metadata": {},
   "outputs": [
    {
     "data": {
      "text/plain": [
       "'v'"
      ]
     },
     "execution_count": 18,
     "metadata": {},
     "output_type": "execute_result"
    }
   ],
   "source": [
    "max(teststring)"
   ]
  },
  {
   "cell_type": "code",
   "execution_count": 19,
   "id": "df8a1471",
   "metadata": {},
   "outputs": [
    {
     "data": {
      "text/plain": [
       "4"
      ]
     },
     "execution_count": 19,
     "metadata": {},
     "output_type": "execute_result"
    }
   ],
   "source": [
    "teststring.count(\"a\")"
   ]
  },
  {
   "cell_type": "markdown",
   "id": "a79bfbbd",
   "metadata": {},
   "source": [
    "# Merging and Replication\n",
    "The list also allows for merging(+) and replication (*)"
   ]
  },
  {
   "cell_type": "code",
   "execution_count": 20,
   "id": "033d11b3",
   "metadata": {},
   "outputs": [],
   "source": [
    "a = [3,5,5,7,7,7]\n",
    "d = [\"d\",\"a\",\"t\",\"a\"]"
   ]
  },
  {
   "cell_type": "code",
   "execution_count": 21,
   "id": "24f0765e",
   "metadata": {},
   "outputs": [
    {
     "data": {
      "text/plain": [
       "[3, 5, 5, 7, 7, 7, 'd', 'a', 't', 'a']"
      ]
     },
     "execution_count": 21,
     "metadata": {},
     "output_type": "execute_result"
    }
   ],
   "source": [
    "a+d"
   ]
  },
  {
   "cell_type": "code",
   "execution_count": 22,
   "id": "3cd0a46d",
   "metadata": {},
   "outputs": [
    {
     "data": {
      "text/plain": [
       "['d', 'a', 't', 'a', 'd', 'a', 't', 'a']"
      ]
     },
     "execution_count": 22,
     "metadata": {},
     "output_type": "execute_result"
    }
   ],
   "source": [
    "d*2"
   ]
  },
  {
   "cell_type": "markdown",
   "id": "aac1a4c8",
   "metadata": {},
   "source": [
    "You can also use the multiplier function to initialize List"
   ]
  },
  {
   "cell_type": "code",
   "execution_count": 1,
   "id": "b9424272",
   "metadata": {},
   "outputs": [],
   "source": [
    "three = [3]*4"
   ]
  },
  {
   "cell_type": "code",
   "execution_count": 2,
   "id": "e48e21fc",
   "metadata": {},
   "outputs": [
    {
     "name": "stdout",
     "output_type": "stream",
     "text": [
      "[3, 3, 3, 3]\n"
     ]
    }
   ],
   "source": [
    "print(three)"
   ]
  },
  {
   "cell_type": "code",
   "execution_count": 3,
   "id": "5814e8f6",
   "metadata": {},
   "outputs": [
    {
     "data": {
      "text/plain": [
       "4"
      ]
     },
     "execution_count": 3,
     "metadata": {},
     "output_type": "execute_result"
    }
   ],
   "source": [
    "len(three)"
   ]
  },
  {
   "cell_type": "markdown",
   "id": "e4814ec3",
   "metadata": {},
   "source": [
    "# Task 2 "
   ]
  },
  {
   "cell_type": "code",
   "execution_count": 32,
   "id": "e5b2f2e7",
   "metadata": {},
   "outputs": [],
   "source": [
    "a = \"Valent \"\n",
    "b = \"Aderiandra\""
   ]
  },
  {
   "cell_type": "code",
   "execution_count": 33,
   "id": "55f0f78f",
   "metadata": {},
   "outputs": [
    {
     "data": {
      "text/plain": [
       "'Valent Aderiandra'"
      ]
     },
     "execution_count": 33,
     "metadata": {},
     "output_type": "execute_result"
    }
   ],
   "source": [
    "a+b"
   ]
  },
  {
   "cell_type": "code",
   "execution_count": 34,
   "id": "a628e5d0",
   "metadata": {},
   "outputs": [
    {
     "data": {
      "text/plain": [
       "'Valent Valent '"
      ]
     },
     "execution_count": 34,
     "metadata": {},
     "output_type": "execute_result"
    }
   ],
   "source": [
    "a*2"
   ]
  },
  {
   "cell_type": "code",
   "execution_count": 4,
   "id": "6dfa0933",
   "metadata": {},
   "outputs": [],
   "source": [
    "exponent = [2**4]*4"
   ]
  },
  {
   "cell_type": "code",
   "execution_count": 5,
   "id": "5eb0ceec",
   "metadata": {},
   "outputs": [
    {
     "data": {
      "text/plain": [
       "[16, 16, 16, 16]"
      ]
     },
     "execution_count": 5,
     "metadata": {},
     "output_type": "execute_result"
    }
   ],
   "source": [
    "exponent"
   ]
  },
  {
   "cell_type": "markdown",
   "id": "d4406932",
   "metadata": {},
   "source": [
    "# Range\n",
    "\n",
    "* The range() function gives a series of numbers with a certain pattern\n",
    "* To perform loops (eg for) in accessing list elements, you can use the range() function in python\n",
    "* More details on loop operations will be discussed in the Loop and Loop Control module"
   ]
  },
  {
   "cell_type": "markdown",
   "id": "8b673c18",
   "metadata": {},
   "source": [
    "The range function can have 1-3 parameters"
   ]
  },
  {
   "cell_type": "markdown",
   "id": "cee6a8a7",
   "metadata": {},
   "source": [
    "Range with 1 parameter : create a series of numbers starting from 0, as many as n numbers"
   ]
  },
  {
   "cell_type": "code",
   "execution_count": 39,
   "id": "00628376",
   "metadata": {},
   "outputs": [
    {
     "name": "stdout",
     "output_type": "stream",
     "text": [
      "0\n",
      "1\n",
      "2\n"
     ]
    }
   ],
   "source": [
    "for i in range(3):\n",
    "\tprint(i)"
   ]
  },
  {
   "cell_type": "markdown",
   "id": "29e3e78e",
   "metadata": {},
   "source": [
    "* Range with 2 parameters n,p: create a series of numbers starting from n, until before p (number p does not follow).\n",
    "* Often referred to as inclusive n (series start with n) and exclusive p (series do not include p)"
   ]
  },
  {
   "cell_type": "code",
   "execution_count": 40,
   "id": "8a11dbb9",
   "metadata": {},
   "outputs": [
    {
     "name": "stdout",
     "output_type": "stream",
     "text": [
      "0\n",
      "1\n",
      "2\n"
     ]
    }
   ],
   "source": [
    "for i in range(0,3):\n",
    "\tprint(i)"
   ]
  },
  {
   "cell_type": "markdown",
   "id": "c14097c5",
   "metadata": {},
   "source": [
    "Range with 3 parameters n, p, q: creates a series of numbers starting from n, until before p (the number p does not follow), with each element having a difference of q."
   ]
  },
  {
   "cell_type": "code",
   "execution_count": 41,
   "id": "dc18eb4f",
   "metadata": {},
   "outputs": [
    {
     "name": "stdout",
     "output_type": "stream",
     "text": [
      "0\n",
      "2\n",
      "4\n",
      "6\n",
      "8\n"
     ]
    }
   ],
   "source": [
    "for i in range(0,10,2):\n",
    "\tprint(i)"
   ]
  },
  {
   "cell_type": "markdown",
   "id": "ca1b7d43",
   "metadata": {},
   "source": [
    "# Task 3"
   ]
  },
  {
   "cell_type": "code",
   "execution_count": 42,
   "id": "bc2b4eea",
   "metadata": {},
   "outputs": [
    {
     "name": "stdout",
     "output_type": "stream",
     "text": [
      "0\n",
      "1\n",
      "2\n",
      "3\n",
      "4\n",
      "5\n",
      "6\n",
      "7\n",
      "8\n",
      "9\n",
      "10\n"
     ]
    }
   ],
   "source": [
    "# Show numbers 0 to 10\n",
    "for i in range(11):\n",
    "    print (i)"
   ]
  },
  {
   "cell_type": "code",
   "execution_count": 43,
   "id": "2f23d515",
   "metadata": {},
   "outputs": [
    {
     "name": "stdout",
     "output_type": "stream",
     "text": [
      "1\n",
      "2\n",
      "3\n",
      "4\n",
      "5\n",
      "6\n",
      "7\n",
      "8\n",
      "9\n",
      "10\n"
     ]
    }
   ],
   "source": [
    "# Show numbers 1 to 10\n",
    "for i in range(1,11):\n",
    "    print (i)"
   ]
  },
  {
   "cell_type": "code",
   "execution_count": 47,
   "id": "ca82ba02",
   "metadata": {},
   "outputs": [
    {
     "name": "stdout",
     "output_type": "stream",
     "text": [
      "10\n",
      "20\n",
      "30\n",
      "40\n",
      "50\n",
      "60\n",
      "70\n",
      "80\n",
      "90\n",
      "100\n"
     ]
    }
   ],
   "source": [
    "# Show numbers tens to 100\n",
    "for i in range(10,101,10):\n",
    "    print (i)"
   ]
  },
  {
   "cell_type": "markdown",
   "id": "91422d0a",
   "metadata": {},
   "source": [
    "# In and Not In\n",
    "* Operators in and not in : To find out a value or object is in the list.\n",
    "* This function will return a boolean value True or False"
   ]
  },
  {
   "cell_type": "code",
   "execution_count": 50,
   "id": "30f66626",
   "metadata": {},
   "outputs": [],
   "source": [
    "us = \"me and you\""
   ]
  },
  {
   "cell_type": "code",
   "execution_count": 51,
   "id": "86a259f6",
   "metadata": {},
   "outputs": [
    {
     "data": {
      "text/plain": [
       "True"
      ]
     },
     "execution_count": 51,
     "metadata": {},
     "output_type": "execute_result"
    }
   ],
   "source": [
    "\"me\" in us"
   ]
  },
  {
   "cell_type": "code",
   "execution_count": 52,
   "id": "eaa67699",
   "metadata": {},
   "outputs": [
    {
     "data": {
      "text/plain": [
       "False"
      ]
     },
     "execution_count": 52,
     "metadata": {},
     "output_type": "execute_result"
    }
   ],
   "source": [
    "\"you\" in us"
   ]
  },
  {
   "cell_type": "code",
   "execution_count": 53,
   "id": "2381e951",
   "metadata": {},
   "outputs": [
    {
     "data": {
      "text/plain": [
       "False"
      ]
     },
     "execution_count": 53,
     "metadata": {},
     "output_type": "execute_result"
    }
   ],
   "source": [
    "\"you\" not in us"
   ]
  },
  {
   "cell_type": "markdown",
   "id": "b566d424",
   "metadata": {},
   "source": [
    "# Task 4"
   ]
  },
  {
   "cell_type": "code",
   "execution_count": 57,
   "id": "1426e61b",
   "metadata": {},
   "outputs": [],
   "source": [
    "myname = \"valent aderiandra\""
   ]
  },
  {
   "cell_type": "code",
   "execution_count": 58,
   "id": "538a5bb3",
   "metadata": {},
   "outputs": [
    {
     "data": {
      "text/plain": [
       "True"
      ]
     },
     "execution_count": 58,
     "metadata": {},
     "output_type": "execute_result"
    }
   ],
   "source": [
    "\"valent\" in myname"
   ]
  },
  {
   "cell_type": "code",
   "execution_count": 59,
   "id": "98c2c3de",
   "metadata": {},
   "outputs": [
    {
     "data": {
      "text/plain": [
       "True"
      ]
     },
     "execution_count": 59,
     "metadata": {},
     "output_type": "execute_result"
    }
   ],
   "source": [
    "\"aderiandra\" in myname"
   ]
  },
  {
   "cell_type": "code",
   "execution_count": 60,
   "id": "5964c752",
   "metadata": {},
   "outputs": [
    {
     "data": {
      "text/plain": [
       "True"
      ]
     },
     "execution_count": 60,
     "metadata": {},
     "output_type": "execute_result"
    }
   ],
   "source": [
    "\" \"in myname"
   ]
  },
  {
   "cell_type": "code",
   "execution_count": 63,
   "id": "8d3f8227",
   "metadata": {},
   "outputs": [
    {
     "data": {
      "text/plain": [
       "True"
      ]
     },
     "execution_count": 63,
     "metadata": {},
     "output_type": "execute_result"
    }
   ],
   "source": [
    "\"len\" in myname"
   ]
  },
  {
   "cell_type": "code",
   "execution_count": 64,
   "id": "0e6435aa",
   "metadata": {},
   "outputs": [
    {
     "data": {
      "text/plain": [
       "False"
      ]
     },
     "execution_count": 64,
     "metadata": {},
     "output_type": "execute_result"
    }
   ],
   "source": [
    "\"Rafael\" in myname"
   ]
  },
  {
   "cell_type": "code",
   "execution_count": 65,
   "id": "758a1e32",
   "metadata": {},
   "outputs": [
    {
     "data": {
      "text/plain": [
       "False"
      ]
     },
     "execution_count": 65,
     "metadata": {},
     "output_type": "execute_result"
    }
   ],
   "source": [
    "\"valent\" not in myname"
   ]
  },
  {
   "cell_type": "markdown",
   "id": "5c7f88d3",
   "metadata": {},
   "source": [
    "Assign values to multiple variables"
   ]
  },
  {
   "cell_type": "code",
   "execution_count": 6,
   "id": "f97d6c4d",
   "metadata": {},
   "outputs": [
    {
     "name": "stdout",
     "output_type": "stream",
     "text": [
      "('Sambal', 'Sambal shrimp paste', 'Spicy')\n"
     ]
    }
   ],
   "source": [
    "food = (\"Sambal\",\"Sambal shrimp paste\",\"Spicy\") \n",
    "print(food)"
   ]
  },
  {
   "cell_type": "code",
   "execution_count": 7,
   "id": "2959e23b",
   "metadata": {},
   "outputs": [
    {
     "name": "stdout",
     "output_type": "stream",
     "text": [
      "Sambal\n"
     ]
    }
   ],
   "source": [
    "name = food[0]\n",
    "print(name)"
   ]
  },
  {
   "cell_type": "code",
   "execution_count": 8,
   "id": "21fc1c6d",
   "metadata": {},
   "outputs": [
    {
     "name": "stdout",
     "output_type": "stream",
     "text": [
      "Sambal shrimp paste\n"
     ]
    }
   ],
   "source": [
    "type = food[1]\n",
    "print(type)"
   ]
  },
  {
   "cell_type": "code",
   "execution_count": 9,
   "id": "b363db90",
   "metadata": {},
   "outputs": [
    {
     "name": "stdout",
     "output_type": "stream",
     "text": [
      "Spicy\n"
     ]
    }
   ],
   "source": [
    "taste=food[2]\n",
    "print(taste)"
   ]
  },
  {
   "cell_type": "markdown",
   "id": "a8e2d647",
   "metadata": {},
   "source": [
    "* Python has a more practical way.\n",
    "* We can assign values to multiple variables at once from List or Tuple elements without needing to mark one by one."
   ]
  },
  {
   "cell_type": "code",
   "execution_count": 78,
   "id": "355b82a3",
   "metadata": {},
   "outputs": [],
   "source": [
    "drink = [\"Juice\",\"Avocado Juice\",\"Sweet\"]"
   ]
  },
  {
   "cell_type": "code",
   "execution_count": 79,
   "id": "327fecac",
   "metadata": {},
   "outputs": [],
   "source": [
    "name, type, taste = drink"
   ]
  },
  {
   "cell_type": "code",
   "execution_count": 80,
   "id": "618df685",
   "metadata": {},
   "outputs": [
    {
     "data": {
      "text/plain": [
       "'Jus'"
      ]
     },
     "execution_count": 80,
     "metadata": {},
     "output_type": "execute_result"
    }
   ],
   "source": [
    "name"
   ]
  },
  {
   "cell_type": "code",
   "execution_count": 81,
   "id": "664739be",
   "metadata": {},
   "outputs": [
    {
     "data": {
      "text/plain": [
       "'Jus alpukat'"
      ]
     },
     "execution_count": 81,
     "metadata": {},
     "output_type": "execute_result"
    }
   ],
   "source": [
    "type"
   ]
  },
  {
   "cell_type": "code",
   "execution_count": 82,
   "id": "c8a46d26",
   "metadata": {},
   "outputs": [
    {
     "data": {
      "text/plain": [
       "'Manis'"
      ]
     },
     "execution_count": 82,
     "metadata": {},
     "output_type": "execute_result"
    }
   ],
   "source": [
    "taste"
   ]
  },
  {
   "cell_type": "markdown",
   "id": "c71fb60c",
   "metadata": {},
   "source": [
    "Of course, the number of variables and the number of items in the List/Tuple must be the same. Otherwise, Python will give a ValueError"
   ]
  },
  {
   "cell_type": "raw",
   "id": "1413195f",
   "metadata": {},
   "source": [
    "drink = [\"Juice\",\"Avocado Juice\",\"Sweet\"]"
   ]
  },
  {
   "cell_type": "code",
   "execution_count": 10,
   "id": "f35106a1",
   "metadata": {},
   "outputs": [
    {
     "ename": "NameError",
     "evalue": "name 'drink' is not defined",
     "output_type": "error",
     "traceback": [
      "\u001b[1;31m---------------------------------------------------------------------------\u001b[0m",
      "\u001b[1;31mNameError\u001b[0m                                 Traceback (most recent call last)",
      "Input \u001b[1;32mIn [10]\u001b[0m, in \u001b[0;36m<cell line: 1>\u001b[1;34m()\u001b[0m\n\u001b[1;32m----> 1\u001b[0m name, \u001b[38;5;28mtype\u001b[39m, taste, price \u001b[38;5;241m=\u001b[39m \u001b[43mdrink\u001b[49m\n",
      "\u001b[1;31mNameError\u001b[0m: name 'drink' is not defined"
     ]
    }
   ],
   "source": [
    "name, type, taste, price = drink"
   ]
  },
  {
   "cell_type": "markdown",
   "id": "85251d24",
   "metadata": {},
   "source": [
    "You can use assignment to multi-variables to swap the values of two or more variables"
   ]
  },
  {
   "cell_type": "code",
   "execution_count": 1,
   "id": "f19f492d",
   "metadata": {},
   "outputs": [],
   "source": [
    "name, gender = \"Valent Aderiandra\",\"male\""
   ]
  },
  {
   "cell_type": "code",
   "execution_count": 2,
   "id": "fc673a76",
   "metadata": {},
   "outputs": [],
   "source": [
    "name,gender = gender, name"
   ]
  },
  {
   "cell_type": "code",
   "execution_count": 3,
   "id": "f9279d44",
   "metadata": {},
   "outputs": [
    {
     "data": {
      "text/plain": [
       "'male'"
      ]
     },
     "execution_count": 3,
     "metadata": {},
     "output_type": "execute_result"
    }
   ],
   "source": [
    "name"
   ]
  },
  {
   "cell_type": "code",
   "execution_count": 4,
   "id": "a51af3d3",
   "metadata": {},
   "outputs": [
    {
     "data": {
      "text/plain": [
       "'Valent Aderiandra'"
      ]
     },
     "execution_count": 4,
     "metadata": {},
     "output_type": "execute_result"
    }
   ],
   "source": [
    "gender"
   ]
  },
  {
   "cell_type": "markdown",
   "id": "2b5c3346",
   "metadata": {},
   "source": [
    "# Sort()\n",
    "* sort() method: sort numbers or letters\n",
    "* This sort() method can sort List"
   ]
  },
  {
   "cell_type": "code",
   "execution_count": 1,
   "id": "bffb0f90",
   "metadata": {},
   "outputs": [],
   "source": [
    "value = [10,100,29,84,54]"
   ]
  },
  {
   "cell_type": "code",
   "execution_count": 2,
   "id": "8f17f95a",
   "metadata": {},
   "outputs": [
    {
     "name": "stdout",
     "output_type": "stream",
     "text": [
      "[10, 29, 54, 84, 100]\n"
     ]
    }
   ],
   "source": [
    "value.sort()\n",
    "print(value)"
   ]
  },
  {
   "cell_type": "code",
   "execution_count": 3,
   "id": "c037c9c2",
   "metadata": {},
   "outputs": [
    {
     "name": "stdout",
     "output_type": "stream",
     "text": [
      "['Valent', 'aderiandra', 'yasminaz']\n"
     ]
    }
   ],
   "source": [
    "name = [\"Valent\",\"aderiandra\",\"yasminaz\"]\n",
    "name.sort()\n",
    "print(name)"
   ]
  },
  {
   "cell_type": "markdown",
   "id": "14c05912",
   "metadata": {},
   "source": [
    "We can also enter the keyword reverse = True in the parameter to make the order reverse."
   ]
  },
  {
   "cell_type": "code",
   "execution_count": 8,
   "id": "4bb6ada8",
   "metadata": {},
   "outputs": [],
   "source": [
    "Myname = [\"v\",\"a\",\"l\",\"e\",\"n\",\"t\"]"
   ]
  },
  {
   "cell_type": "code",
   "execution_count": 9,
   "id": "79efd528",
   "metadata": {},
   "outputs": [
    {
     "name": "stdout",
     "output_type": "stream",
     "text": [
      "['a', 'e', 'l', 'n', 't', 'v']\n"
     ]
    }
   ],
   "source": [
    "Myname.sort()\n",
    "print(Myname)"
   ]
  },
  {
   "cell_type": "code",
   "execution_count": 12,
   "id": "7a4c126c",
   "metadata": {},
   "outputs": [
    {
     "name": "stdout",
     "output_type": "stream",
     "text": [
      "['v', 't', 'n', 'l', 'e', 'a']\n"
     ]
    }
   ],
   "source": [
    "Myname.sort(reverse=True)\n",
    "print(Myname)"
   ]
  },
  {
   "cell_type": "markdown",
   "id": "6609fe0b",
   "metadata": {},
   "source": [
    "* We can enter the keyword str.lower in the parameter\n",
    "* This will make the sort method assume all objects are lowercase, without changing the original state of the object"
   ]
  },
  {
   "cell_type": "code",
   "execution_count": 15,
   "id": "dc598d16",
   "metadata": {},
   "outputs": [],
   "source": [
    "Mygroup = [\"Valent\",\"agung\",\"Reno\"]"
   ]
  },
  {
   "cell_type": "code",
   "execution_count": 17,
   "id": "fa940b36",
   "metadata": {},
   "outputs": [
    {
     "name": "stdout",
     "output_type": "stream",
     "text": [
      "['agung', 'Reno', 'Valent']\n"
     ]
    }
   ],
   "source": [
    "Mygroup.sort(key=str.lower)\n",
    "print (Mygroup)"
   ]
  },
  {
   "cell_type": "code",
   "execution_count": 18,
   "id": "27715c3e",
   "metadata": {},
   "outputs": [
    {
     "name": "stdout",
     "output_type": "stream",
     "text": [
      "['agung', 'Reno', 'Valent']\n"
     ]
    }
   ],
   "source": [
    "Mygroup.sort(key=str.upper)\n",
    "print (Mygroup)"
   ]
  }
 ],
 "metadata": {
  "kernelspec": {
   "display_name": "Python 3 (ipykernel)",
   "language": "python",
   "name": "python3"
  },
  "language_info": {
   "codemirror_mode": {
    "name": "ipython",
    "version": 3
   },
   "file_extension": ".py",
   "mimetype": "text/x-python",
   "name": "python",
   "nbconvert_exporter": "python",
   "pygments_lexer": "ipython3",
   "version": "3.9.12"
  }
 },
 "nbformat": 4,
 "nbformat_minor": 5
}
