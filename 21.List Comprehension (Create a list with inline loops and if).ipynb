{
 "cells": [
  {
   "cell_type": "markdown",
   "id": "ee3ff7fd",
   "metadata": {},
   "source": [
    "# List Comprehension (Create a list with inline loops and ifs)\n",
    "There are times when we need to create a new list from the previous list operation"
   ]
  },
  {
   "cell_type": "markdown",
   "id": "1f31a235",
   "metadata": {},
   "source": [
    "List comprehensions are a way to generate new lists based on pre-existing lists or iterables"
   ]
  },
  {
   "cell_type": "code",
   "execution_count": 2,
   "id": "752f729f",
   "metadata": {},
   "outputs": [],
   "source": [
    "lengthwidthheight = [2,3,4]\n",
    "cubic = []"
   ]
  },
  {
   "cell_type": "code",
   "execution_count": 4,
   "id": "41b41b0e",
   "metadata": {},
   "outputs": [
    {
     "name": "stdout",
     "output_type": "stream",
     "text": [
      "[8, 27, 64]\n"
     ]
    }
   ],
   "source": [
    "for i in lengthwidthheight :\n",
    "\tcubic.append(i**3)\n",
    "print(cubic)"
   ]
  },
  {
   "cell_type": "markdown",
   "id": "73b8e550",
   "metadata": {},
   "source": [
    "Writing in another way\n",
    "* new_list = [expression for_loop_one_or_more conditions]"
   ]
  },
  {
   "cell_type": "code",
   "execution_count": 5,
   "id": "38ee0d97",
   "metadata": {},
   "outputs": [],
   "source": [
    "lengthwidthheight = [2,3,4]\n",
    "cubic = [i**3 for i in lengthwidthheight]"
   ]
  },
  {
   "cell_type": "code",
   "execution_count": 7,
   "id": "8d7952f9",
   "metadata": {},
   "outputs": [
    {
     "name": "stdout",
     "output_type": "stream",
     "text": [
      "[8, 27, 64]\n"
     ]
    }
   ],
   "source": [
    "print(cubic)"
   ]
  },
  {
   "cell_type": "markdown",
   "id": "183882b7",
   "metadata": {},
   "source": [
    "# Task 1"
   ]
  },
  {
   "cell_type": "code",
   "execution_count": 8,
   "id": "de69cbc1",
   "metadata": {},
   "outputs": [],
   "source": [
    "number = [100,24,36]\n",
    "root = []"
   ]
  },
  {
   "cell_type": "code",
   "execution_count": 10,
   "id": "13437fa5",
   "metadata": {},
   "outputs": [
    {
     "name": "stdout",
     "output_type": "stream",
     "text": [
      "[10.0, 4.898979485566356, 6.0]\n"
     ]
    }
   ],
   "source": [
    "for i in number :\n",
    "    root.append(i**0.5)\n",
    "print(root)"
   ]
  },
  {
   "cell_type": "code",
   "execution_count": 11,
   "id": "4ebd0505",
   "metadata": {},
   "outputs": [],
   "source": [
    "number = [100,24,36]\n",
    "root = [i**0.5 for i in number]"
   ]
  },
  {
   "cell_type": "code",
   "execution_count": 12,
   "id": "4a960797",
   "metadata": {},
   "outputs": [
    {
     "name": "stdout",
     "output_type": "stream",
     "text": [
      "[10.0, 4.898979485566356, 6.0]\n"
     ]
    }
   ],
   "source": [
    "print(root)"
   ]
  },
  {
   "cell_type": "code",
   "execution_count": 25,
   "id": "228db03d",
   "metadata": {},
   "outputs": [
    {
     "name": "stdout",
     "output_type": "stream",
     "text": [
      "['a', 'a', 'a', 'e', 'n']\n"
     ]
    }
   ],
   "source": [
    "# Looking for duplicate letters\n",
    "\n",
    "firstname = [\"v\",\"a\",\"l\",\"e\",\"n\",\"t\"]\n",
    "lastname = [\"a\",\"d\",\"e\",\"r\",\"i\",\"a\",\"n\",\"d\",\"r\",\"a\"]\n",
    "\n",
    "duplikat = []\n",
    "\n",
    "for i in firstname :\n",
    "\tfor j in lastname:\n",
    "\t\tif i == j:\n",
    "\t\t\tduplikat.append(i)\n",
    "print(duplikat)"
   ]
  },
  {
   "cell_type": "code",
   "execution_count": 26,
   "id": "aed5a8a5",
   "metadata": {},
   "outputs": [],
   "source": [
    "# Looking for duplicate letters\n",
    "firstname = [\"v\",\"a\",\"l\",\"e\",\"n\",\"t\"]\n",
    "lastname = [\"a\",\"d\",\"e\",\"r\",\"i\",\"a\",\"n\",\"d\",\"r\",\"a\"]\n",
    "\n",
    "duplikat = [i for i in firstname for j in lastname if i == j]"
   ]
  },
  {
   "cell_type": "code",
   "execution_count": 27,
   "id": "e86677ea",
   "metadata": {},
   "outputs": [
    {
     "name": "stdout",
     "output_type": "stream",
     "text": [
      "['a', 'a', 'a', 'e', 'n']\n"
     ]
    }
   ],
   "source": [
    "print(duplikat)"
   ]
  },
  {
   "cell_type": "code",
   "execution_count": 13,
   "id": "71469f4a",
   "metadata": {},
   "outputs": [],
   "source": [
    "list1 = [6,2,10]\n",
    "list2 = [100,9,4,36]\n",
    "\n",
    "results = []"
   ]
  },
  {
   "cell_type": "code",
   "execution_count": 14,
   "id": "b712ec8a",
   "metadata": {},
   "outputs": [
    {
     "name": "stdout",
     "output_type": "stream",
     "text": [
      "[6, 2, 10]\n"
     ]
    }
   ],
   "source": [
    "for i in list1:\n",
    "    for j in list2 :\n",
    "        if i==j**0.5:\n",
    "            results.append(i)\n",
    "print(results)"
   ]
  },
  {
   "cell_type": "code",
   "execution_count": 41,
   "id": "c171305b",
   "metadata": {},
   "outputs": [
    {
     "name": "stdout",
     "output_type": "stream",
     "text": [
      "['DATA', 'SCIENCE']\n"
     ]
    }
   ],
   "source": [
    "data = [\"data\",\"science\"]\n",
    "upper=[_.upper() for _ in data]\n",
    "print(upper)"
   ]
  },
  {
   "cell_type": "markdown",
   "id": "b993e349",
   "metadata": {},
   "source": [
    "* Underscores include valid variable names.\n",
    "* In general \"_\" can be used as a throwaway variable (unimportant variable)"
   ]
  },
  {
   "cell_type": "code",
   "execution_count": 15,
   "id": "ce509664",
   "metadata": {},
   "outputs": [
    {
     "name": "stdout",
     "output_type": "stream",
     "text": [
      "1\n",
      "3\n",
      "5\n",
      "7\n",
      "[[1, 1], [9, 27], [25, 125], [49, 343]]\n"
     ]
    }
   ],
   "source": [
    "number = range(1,8,2)\n",
    "for i in range(1,8,2):\n",
    "     print(i)\n",
    "square_cubic = [[_**2, _**3] for _ in number]\n",
    "print(square_cubic)"
   ]
  },
  {
   "cell_type": "code",
   "execution_count": 16,
   "id": "3460f8ce",
   "metadata": {},
   "outputs": [
    {
     "name": "stdout",
     "output_type": "stream",
     "text": [
      "1\n",
      "3\n",
      "5\n",
      "7\n",
      "9\n",
      "[[0.5, 0.5], [4.5, 13.5], [12.5, 62.5], [24.5, 171.5], [40.5, 364.5]]\n"
     ]
    }
   ],
   "source": [
    "number = range(1,10,2)\n",
    "for i in range(1,10,2):\n",
    "     print(i)\n",
    "square_cubic =[[i**2/2,i**3/2]for i in number]\n",
    "print(square_cubic)"
   ]
  }
 ],
 "metadata": {
  "kernelspec": {
   "display_name": "Python 3 (ipykernel)",
   "language": "python",
   "name": "python3"
  },
  "language_info": {
   "codemirror_mode": {
    "name": "ipython",
    "version": 3
   },
   "file_extension": ".py",
   "mimetype": "text/x-python",
   "name": "python",
   "nbconvert_exporter": "python",
   "pygments_lexer": "ipython3",
   "version": "3.9.12"
  }
 },
 "nbformat": 4,
 "nbformat_minor": 5
}
