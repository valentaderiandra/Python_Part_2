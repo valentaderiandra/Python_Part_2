{
 "cells": [
  {
   "cell_type": "markdown",
   "id": "9e72ecbe",
   "metadata": {},
   "source": [
    "# Error Handling (Error and Exception Handling)"
   ]
  },
  {
   "cell_type": "markdown",
   "id": "be2c8d7b",
   "metadata": {},
   "source": [
    "Two types of errors based on their occurrence:\n",
    "1. Syntax errors\n",
    "2. Exceptions (exceptions)"
   ]
  },
  {
   "cell_type": "markdown",
   "id": "2ea4ce13",
   "metadata": {},
   "source": [
    "Syntax error\n",
    "* A syntax error occurs when Python can't understand what you're commanding\n",
    "* Syntax errors usually occur when you are just starting to learn Python"
   ]
  },
  {
   "cell_type": "markdown",
   "id": "e9a8769d",
   "metadata": {},
   "source": [
    "For example the placement of indents (space at the beginning) that is not appropriate."
   ]
  },
  {
   "cell_type": "code",
   "execution_count": 1,
   "id": "b2236c79",
   "metadata": {},
   "outputs": [
    {
     "ename": "IndentationError",
     "evalue": "expected an indented block (2244922522.py, line 2)",
     "output_type": "error",
     "traceback": [
      "\u001b[1;36m  Input \u001b[1;32mIn [1]\u001b[1;36m\u001b[0m\n\u001b[1;33m    print(i)\u001b[0m\n\u001b[1;37m    ^\u001b[0m\n\u001b[1;31mIndentationError\u001b[0m\u001b[1;31m:\u001b[0m expected an indented block\n"
     ]
    }
   ],
   "source": [
    "for i in \"data\":\n",
    "print(i)"
   ]
  },
  {
   "cell_type": "markdown",
   "id": "2e1ffd37",
   "metadata": {},
   "source": [
    "The following example displays a syntax error, where after the condition of the for command there must be a colon (:)"
   ]
  },
  {
   "cell_type": "code",
   "execution_count": 2,
   "id": "e871b781",
   "metadata": {},
   "outputs": [
    {
     "ename": "SyntaxError",
     "evalue": "invalid syntax (2060262910.py, line 1)",
     "output_type": "error",
     "traceback": [
      "\u001b[1;36m  Input \u001b[1;32mIn [2]\u001b[1;36m\u001b[0m\n\u001b[1;33m    for i in \"data\"\u001b[0m\n\u001b[1;37m                   ^\u001b[0m\n\u001b[1;31mSyntaxError\u001b[0m\u001b[1;31m:\u001b[0m invalid syntax\n"
     ]
    }
   ],
   "source": [
    "for i in \"data\"\n",
    "\tprint(i)"
   ]
  }
 ],
 "metadata": {
  "kernelspec": {
   "display_name": "Python 3 (ipykernel)",
   "language": "python",
   "name": "python3"
  },
  "language_info": {
   "codemirror_mode": {
    "name": "ipython",
    "version": 3
   },
   "file_extension": ".py",
   "mimetype": "text/x-python",
   "name": "python",
   "nbconvert_exporter": "python",
   "pygments_lexer": "ipython3",
   "version": "3.9.12"
  }
 },
 "nbformat": 4,
 "nbformat_minor": 5
}
